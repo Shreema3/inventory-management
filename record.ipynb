{
 "cells": [
  {
   "cell_type": "code",
   "execution_count": 25,
   "id": "2cb0e105",
   "metadata": {},
   "outputs": [],
   "source": [
    "import json\n",
    "\n",
    "fd=open('record.json','r')\n",
    "\n",
    "r=fd.read()\n",
    "\n",
    "fd.close\n",
    "\n",
    "record= json.loads(r)"
   ]
  },
  {
   "cell_type": "code",
   "execution_count": 61,
   "id": "8bd39649",
   "metadata": {},
   "outputs": [
    {
     "name": "stdout",
     "output_type": "stream",
     "text": [
      "Enter the Product ID: 1030\n",
      "Enter the product name: brush\n",
      "Enter the quantity: 250\n",
      "Enter the price: 25\n"
     ]
    }
   ],
   "source": [
    "prod_id=str(input('Enter the Product ID: '))\n",
    "name=str(input('Enter the product name: '))\n",
    "qn=int(input('Enter the quantity: '))\n",
    "pr=int(input('Enter the price: '))\n",
    "\n",
    "record[prod_id] = {'name': name, 'pr': pr, 'qn': qn}"
   ]
  },
  {
   "cell_type": "code",
   "execution_count": 62,
   "id": "9b5db335",
   "metadata": {},
   "outputs": [
    {
     "data": {
      "text/plain": [
       "{'1001': {'name': 'Choco Cake', 'qn': 34, 'pr': 100},\n",
       " '1002': {'name': 'Milk Cake', 'pr': 800, 'qn': 100},\n",
       " '1003': {'name': 'Drink', 'pr': 85, 'qn': 100},\n",
       " '1004': {'name': 'Candy', 'pr': 5, 'qn': 1000},\n",
       " '1005': {'name': 'Pen', 'pr': 20, 'qn': 96},\n",
       " '1006': {'name': 'Phone', 'pr': 50000, 'qn': 10},\n",
       " '1007': {'name': 'Mic', 'pr': 1500, 'qn': 0},\n",
       " '1008': {'name': 'Case', 'pr': 599, 'qn': 5},\n",
       " '1009': {'name': 'Keyboard', 'pr': 1999, 'qn': 10},\n",
       " '1010': {'name': 'Chocolate', 'pr': 10, 'qn': 493},\n",
       " '1011': {'name': 'Chair', 'pr': 125, 'qn': 245},\n",
       " '1012': {'name': 'Bag', 'pr': 350, 'qn': 247},\n",
       " '1013': {'name': 'Table', 'pr': 750, 'qn': 50},\n",
       " '1014': {'name': 'Soap', 'pr': 25, 'qn': 250},\n",
       " '1015': {'name': 'Charger', 'pr': 800, 'qn': 245},\n",
       " '1016': {'name': 'Pin', 'pr': 2, 'qn': 793},\n",
       " '1017': {'name': 'Medikit', 'pr': 250, 'qn': 250},\n",
       " '1018': {'name': 'Pipe', 'pr': 250, 'qn': 25},\n",
       " '1019': {'name': 'Sofa', 'pr': 25000, 'qn': 25},\n",
       " '1020': {'name': 'Sandals', 'pr': 300, 'qn': 250},\n",
       " '1021': {'name': 'Shoes', 'pr': 500, 'qn': 250},\n",
       " '1022': {'name': 'Laptop', 'pr': 60000, 'qn': 25},\n",
       " '1023': {'name': 'Computer', 'pr': 50000, 'qn': 25},\n",
       " '1024': {'name': 'Face Wash', 'pr': 45, 'qn': 250},\n",
       " '1025': {'name': 'Automobile', 'pr': 60000, 'qn': 20},\n",
       " '1026': {'name': 'Drums', 'pr': 300, 'qn': 25},\n",
       " '1027': {'name': 'Guitars', 'pr': 7500, 'qn': 45},\n",
       " '1028': {'name': 'Piano', 'pr': 30000, 'qn': 20},\n",
       " '1029': {'name': 'Books', 'pr': 45, 'qn': 235},\n",
       " '1030': {'name': 'brush', 'pr': 25, 'qn': 250},\n",
       " '1031': {'name': 'brush', 'pr': 25, 'qn': 249}}"
      ]
     },
     "execution_count": 62,
     "metadata": {},
     "output_type": "execute_result"
    }
   ],
   "source": [
    "record"
   ]
  },
  {
   "cell_type": "code",
   "execution_count": 63,
   "id": "ea8c3d7e",
   "metadata": {},
   "outputs": [],
   "source": [
    "js=json.dumps(record)\n",
    "\n",
    "fd=open('record.json','w')\n",
    "\n",
    "fd.write(js)\n",
    "\n",
    "fd.close()"
   ]
  },
  {
   "cell_type": "code",
   "execution_count": 10,
   "id": "56fcaaf6",
   "metadata": {},
   "outputs": [],
   "source": [
    "#purchasing"
   ]
  },
  {
   "cell_type": "code",
   "execution_count": 119,
   "id": "54537c0d",
   "metadata": {},
   "outputs": [
    {
     "name": "stdout",
     "output_type": "stream",
     "text": [
      "Enter the product ID: 1011\n",
      "Enter the quantity: 8\n",
      "The name of the product is:  Chair\n",
      "Payable Price:  1000\n",
      "Quantity bought:  8\n"
     ]
    }
   ],
   "source": [
    "p_prod=str(input('Enter the product ID: '))\n",
    "p_qn=int(input('Enter the quantity: '))\n",
    "\n",
    "print(\"The name of the product is: \",record[p_prod]['name'])\n",
    "print('Payable Price: ', record[p_prod]['pr']*p_qn)\n",
    "print('Quantity bought: ', p_qn)\n",
    "\n",
    "record[p_prod]['qn'] = record[p_prod]['qn']-p_qn"
   ]
  },
  {
   "cell_type": "code",
   "execution_count": 120,
   "id": "5d247703",
   "metadata": {},
   "outputs": [],
   "source": [
    "js=json.dumps(record)\n",
    "\n",
    "fd= open('record.json','w')\n",
    "\n",
    "fd.write((js))\n",
    "\n",
    "fd.close()"
   ]
  },
  {
   "cell_type": "code",
   "execution_count": 121,
   "id": "f39f5e02",
   "metadata": {},
   "outputs": [
    {
     "data": {
      "text/plain": [
       "{'1001': {'name': 'Choco Cake', 'qn': 34, 'pr': 100},\n",
       " '1002': {'name': 'Milk Cake', 'pr': 800, 'qn': 100},\n",
       " '1003': {'name': 'Drink', 'pr': 85, 'qn': 100},\n",
       " '1004': {'name': 'Candy', 'pr': 5, 'qn': 1000},\n",
       " '1005': {'name': 'Pen', 'pr': 20, 'qn': 96},\n",
       " '1006': {'name': 'Phone', 'pr': 50000, 'qn': 8},\n",
       " '1007': {'name': 'Mic', 'pr': 1500, 'qn': 0},\n",
       " '1008': {'name': 'Case', 'pr': 599, 'qn': 5},\n",
       " '1009': {'name': 'Keyboard', 'pr': 1999, 'qn': 10},\n",
       " '1010': {'name': 'Chocolate', 'pr': 10, 'qn': 493},\n",
       " '1011': {'name': 'Chair', 'pr': 125, 'qn': 237},\n",
       " '1012': {'name': 'Bag', 'pr': 350, 'qn': 247},\n",
       " '1013': {'name': 'Table', 'pr': 750, 'qn': 50},\n",
       " '1014': {'name': 'Soap', 'pr': 25, 'qn': 250},\n",
       " '1015': {'name': 'Charger', 'pr': 800, 'qn': 245},\n",
       " '1016': {'name': 'Pin', 'pr': 2, 'qn': 793},\n",
       " '1017': {'name': 'Medikit', 'pr': 250, 'qn': 250},\n",
       " '1018': {'name': 'Pipe', 'pr': 250, 'qn': 25},\n",
       " '1019': {'name': 'Sofa', 'pr': 25000, 'qn': 25},\n",
       " '1020': {'name': 'Sandals', 'pr': 300, 'qn': 245},\n",
       " '1021': {'name': 'Shoes', 'pr': 500, 'qn': 250},\n",
       " '1022': {'name': 'Laptop', 'pr': 60000, 'qn': 25},\n",
       " '1023': {'name': 'Computer', 'pr': 50000, 'qn': 24},\n",
       " '1024': {'name': 'Face Wash', 'pr': 45, 'qn': 249},\n",
       " '1025': {'name': 'Automobile', 'pr': 60000, 'qn': 20},\n",
       " '1026': {'name': 'Drums', 'pr': 300, 'qn': 25},\n",
       " '1027': {'name': 'Guitars', 'pr': 7500, 'qn': 43},\n",
       " '1028': {'name': 'Piano', 'pr': 30000, 'qn': 20},\n",
       " '1029': {'name': 'Books', 'pr': 45, 'qn': 233},\n",
       " '1030': {'name': 'brush', 'pr': 25, 'qn': 250},\n",
       " '1031': {'name': 'brush', 'pr': 25, 'qn': 249}}"
      ]
     },
     "execution_count": 121,
     "metadata": {},
     "output_type": "execute_result"
    }
   ],
   "source": [
    "record"
   ]
  },
  {
   "cell_type": "code",
   "execution_count": 122,
   "id": "9872a41e",
   "metadata": {},
   "outputs": [
    {
     "data": {
      "text/plain": [
       "{'prod': '1011', 'qn': 8, 'amount': 1000}"
      ]
     },
     "execution_count": 122,
     "metadata": {},
     "output_type": "execute_result"
    }
   ],
   "source": [
    "{'prod':p_prod,'qn':p_qn,'amount':record[p_prod]['pr']*p_qn}"
   ]
  },
  {
   "cell_type": "code",
   "execution_count": 33,
   "id": "fb71cca9",
   "metadata": {},
   "outputs": [],
   "source": [
    "sales={1:{'prod':p_prod,'qn':p_qn,'amount':record[p_prod]['pr']*p_qn}}"
   ]
  },
  {
   "cell_type": "code",
   "execution_count": 34,
   "id": "ebe69ba6",
   "metadata": {},
   "outputs": [
    {
     "data": {
      "text/plain": [
       "'{\"1\": {\"prod\": \"1031\", \"qn\": 1, \"amount\": 25}}'"
      ]
     },
     "execution_count": 34,
     "metadata": {},
     "output_type": "execute_result"
    }
   ],
   "source": [
    "json.dumps(sales)"
   ]
  },
  {
   "cell_type": "code",
   "execution_count": 35,
   "id": "cb030cf7",
   "metadata": {},
   "outputs": [],
   "source": [
    "fd= open('record.json','r')\n",
    "\n",
    "r=fd.read()\n",
    "\n",
    "fd.close()"
   ]
  },
  {
   "cell_type": "code",
   "execution_count": 123,
   "id": "078d1b05",
   "metadata": {},
   "outputs": [
    {
     "data": {
      "text/plain": [
       "{10: {'prod': '1011', 'qn': 8, 'amount': 1000}}"
      ]
     },
     "execution_count": 123,
     "metadata": {},
     "output_type": "execute_result"
    }
   ],
   "source": [
    "{(len(sales)+1):{'prod':p_prod,'qn':p_qn,'amount':record[p_prod]['pr']*p_qn}}"
   ]
  },
  {
   "cell_type": "code",
   "execution_count": 124,
   "id": "5a38cf65",
   "metadata": {},
   "outputs": [],
   "source": [
    "sales[len(sales)+1]={'prod':p_prod,'qn':p_qn,'amount':record[p_prod]['pr']*p_qn}"
   ]
  },
  {
   "cell_type": "code",
   "execution_count": 125,
   "id": "ae58c0a3",
   "metadata": {},
   "outputs": [
    {
     "data": {
      "text/plain": [
       "{1: {'prod': '1031', 'qn': 1, 'amount': 25},\n",
       " 2: {'prod': '1030', 'qn': 10, 'amount': 20},\n",
       " 3: {'prod': '1010', 'qn': 7, 'amount': 70},\n",
       " 4: {'prod': '1006', 'qn': 2, 'amount': 100000},\n",
       " 5: {'prod': '1023', 'qn': 1, 'amount': 50000},\n",
       " 6: {'prod': '1029', 'qn': 2, 'amount': 90},\n",
       " 7: {'prod': '1024', 'qn': 1, 'amount': 45},\n",
       " 8: {'prod': '1027', 'qn': 2, 'amount': 15000},\n",
       " 9: {'prod': '1020', 'qn': 5, 'amount': 1500},\n",
       " 10: {'prod': '1011', 'qn': 8, 'amount': 1000}}"
      ]
     },
     "execution_count": 125,
     "metadata": {},
     "output_type": "execute_result"
    }
   ],
   "source": [
    "sales"
   ]
  },
  {
   "cell_type": "code",
   "execution_count": 126,
   "id": "caa18652",
   "metadata": {},
   "outputs": [],
   "source": [
    "js=json.dumps(sales)"
   ]
  },
  {
   "cell_type": "code",
   "execution_count": 127,
   "id": "a2a8a41a",
   "metadata": {},
   "outputs": [],
   "source": [
    "fd= open('sales.json','w')\n",
    "fd.write(js)\n",
    "fd.close()"
   ]
  },
  {
   "cell_type": "code",
   "execution_count": null,
   "id": "06f08b5b",
   "metadata": {},
   "outputs": [],
   "source": []
  },
  {
   "cell_type": "code",
   "execution_count": null,
   "id": "b0e8c701",
   "metadata": {},
   "outputs": [],
   "source": []
  }
 ],
 "metadata": {
  "kernelspec": {
   "display_name": "Python 3",
   "language": "python",
   "name": "python3"
  },
  "language_info": {
   "codemirror_mode": {
    "name": "ipython",
    "version": 3
   },
   "file_extension": ".py",
   "mimetype": "text/x-python",
   "name": "python",
   "nbconvert_exporter": "python",
   "pygments_lexer": "ipython3",
   "version": "3.8.8"
  }
 },
 "nbformat": 4,
 "nbformat_minor": 5
}
